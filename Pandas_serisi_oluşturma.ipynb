{
 "cells": [
  {
   "cell_type": "markdown",
   "id": "744ab74f-a435-43e8-92fc-547a60e813de",
   "metadata": {},
   "source": [
    "## Pandas Serisi Oluşturma"
   ]
  },
  {
   "cell_type": "code",
   "execution_count": 1,
   "id": "bb6f038f-adb6-4b65-98a7-b4886cd9d092",
   "metadata": {},
   "outputs": [],
   "source": [
    "import pandas as pd"
   ]
  },
  {
   "cell_type": "code",
   "execution_count": 3,
   "id": "37081a12-c1c2-46de-b0b4-3a1fa57555b5",
   "metadata": {},
   "outputs": [
    {
     "data": {
      "text/plain": [
       "0    10\n",
       "1    20\n",
       "2    30\n",
       "3    40\n",
       "4    50\n",
       "dtype: int64"
      ]
     },
     "execution_count": 3,
     "metadata": {},
     "output_type": "execute_result"
    }
   ],
   "source": [
    "pd.Series([10,20,30,40,50])"
   ]
  },
  {
   "cell_type": "code",
   "execution_count": 4,
   "id": "0d1f793f-b50e-4e76-b65a-2ad7708e4670",
   "metadata": {},
   "outputs": [],
   "source": [
    "seri=pd.Series([10,20,30,40,50])"
   ]
  },
  {
   "cell_type": "code",
   "execution_count": 5,
   "id": "5ae9543c-ec7e-4043-b502-c09ac6af80ff",
   "metadata": {},
   "outputs": [
    {
     "data": {
      "text/plain": [
       "pandas.core.series.Series"
      ]
     },
     "execution_count": 5,
     "metadata": {},
     "output_type": "execute_result"
    }
   ],
   "source": [
    "type(seri)"
   ]
  },
  {
   "cell_type": "code",
   "execution_count": 6,
   "id": "5cb9a36c-3cfa-48d9-b0b5-139c965f122c",
   "metadata": {},
   "outputs": [
    {
     "data": {
      "text/plain": [
       "[RangeIndex(start=0, stop=5, step=1)]"
      ]
     },
     "execution_count": 6,
     "metadata": {},
     "output_type": "execute_result"
    }
   ],
   "source": [
    "seri.axes # index bilgileri"
   ]
  },
  {
   "cell_type": "code",
   "execution_count": 7,
   "id": "f482d060-c230-477b-890e-50f05eed4a43",
   "metadata": {},
   "outputs": [
    {
     "data": {
      "text/plain": [
       "dtype('int64')"
      ]
     },
     "execution_count": 7,
     "metadata": {},
     "output_type": "execute_result"
    }
   ],
   "source": [
    "seri.dtype"
   ]
  },
  {
   "cell_type": "code",
   "execution_count": 8,
   "id": "9e2d331b-cb63-4ea2-bb88-50e26c4c4815",
   "metadata": {},
   "outputs": [
    {
     "data": {
      "text/plain": [
       "5"
      ]
     },
     "execution_count": 8,
     "metadata": {},
     "output_type": "execute_result"
    }
   ],
   "source": [
    "seri.size #eleman sayısı"
   ]
  },
  {
   "cell_type": "code",
   "execution_count": 9,
   "id": "beb93b73-1e51-4e35-989c-52571b685f41",
   "metadata": {},
   "outputs": [
    {
     "data": {
      "text/plain": [
       "1"
      ]
     },
     "execution_count": 9,
     "metadata": {},
     "output_type": "execute_result"
    }
   ],
   "source": [
    "seri.ndim # boyut bilgisi"
   ]
  },
  {
   "cell_type": "code",
   "execution_count": 10,
   "id": "f20a5676-c21c-40a4-8558-f185004852f2",
   "metadata": {},
   "outputs": [
    {
     "data": {
      "text/plain": [
       "array([10, 20, 30, 40, 50], dtype=int64)"
      ]
     },
     "execution_count": 10,
     "metadata": {},
     "output_type": "execute_result"
    }
   ],
   "source": [
    "seri.values # sadece değer bilgisine erişmek istersem"
   ]
  },
  {
   "cell_type": "code",
   "execution_count": 11,
   "id": "3eccc4a4-3088-4dcd-aaf7-cfb3db27f5f8",
   "metadata": {},
   "outputs": [
    {
     "data": {
      "text/plain": [
       "0    10\n",
       "1    20\n",
       "2    30\n",
       "3    40\n",
       "4    50\n",
       "dtype: int64"
      ]
     },
     "execution_count": 11,
     "metadata": {},
     "output_type": "execute_result"
    }
   ],
   "source": [
    "seri.head() #serinin ilk 5 gözlemini getirir"
   ]
  },
  {
   "cell_type": "code",
   "execution_count": 12,
   "id": "df5efe5e-c0e6-4d8a-b714-e5de00963f66",
   "metadata": {},
   "outputs": [
    {
     "data": {
      "text/plain": [
       "0    10\n",
       "1    20\n",
       "2    30\n",
       "dtype: int64"
      ]
     },
     "execution_count": 12,
     "metadata": {},
     "output_type": "execute_result"
    }
   ],
   "source": [
    "seri.head(3) # serini 3 gözlemini getirir"
   ]
  },
  {
   "cell_type": "code",
   "execution_count": 13,
   "id": "02283730-9ca5-4f43-82c9-b815d84f9059",
   "metadata": {},
   "outputs": [
    {
     "data": {
      "text/plain": [
       "0    10\n",
       "1    20\n",
       "2    30\n",
       "3    40\n",
       "4    50\n",
       "dtype: int64"
      ]
     },
     "execution_count": 13,
     "metadata": {},
     "output_type": "execute_result"
    }
   ],
   "source": [
    "seri.tail() #sondan bakarız"
   ]
  },
  {
   "cell_type": "code",
   "execution_count": 14,
   "id": "2437021e-aa53-45a1-be86-587c595f196a",
   "metadata": {},
   "outputs": [
    {
     "data": {
      "text/plain": [
       "2    30\n",
       "3    40\n",
       "4    50\n",
       "dtype: int64"
      ]
     },
     "execution_count": 14,
     "metadata": {},
     "output_type": "execute_result"
    }
   ],
   "source": [
    "seri.tail(3)"
   ]
  },
  {
   "cell_type": "code",
   "execution_count": 15,
   "id": "8a9d9f3d-95fa-4292-bea6-abe2eca18194",
   "metadata": {},
   "outputs": [],
   "source": [
    "# İndex İsimlendirmesi"
   ]
  },
  {
   "cell_type": "code",
   "execution_count": 16,
   "id": "481553a4-6e85-4a6f-80cd-e3a46571944f",
   "metadata": {},
   "outputs": [
    {
     "data": {
      "text/plain": [
       "0     99\n",
       "1     22\n",
       "2    232\n",
       "3     94\n",
       "4      5\n",
       "dtype: int64"
      ]
     },
     "execution_count": 16,
     "metadata": {},
     "output_type": "execute_result"
    }
   ],
   "source": [
    "pd.Series([99,22,232,94,5])"
   ]
  },
  {
   "cell_type": "code",
   "execution_count": 17,
   "id": "dd6fde79-57bd-4e1f-a884-8515f23212b7",
   "metadata": {},
   "outputs": [
    {
     "data": {
      "text/plain": [
       "1     99\n",
       "3     22\n",
       "5    232\n",
       "7     94\n",
       "9      5\n",
       "dtype: int64"
      ]
     },
     "execution_count": 17,
     "metadata": {},
     "output_type": "execute_result"
    }
   ],
   "source": [
    "pd.Series([99,22,232,94,5],index=[1,3,5,7,9]) #indexi kendimiz belirlemek istersek"
   ]
  },
  {
   "cell_type": "code",
   "execution_count": 18,
   "id": "fb473bef-a20b-4791-af58-6c5e9d872126",
   "metadata": {},
   "outputs": [
    {
     "data": {
      "text/plain": [
       "a     99\n",
       "b     22\n",
       "c    232\n",
       "d     94\n",
       "e      5\n",
       "dtype: int64"
      ]
     },
     "execution_count": 18,
     "metadata": {},
     "output_type": "execute_result"
    }
   ],
   "source": [
    "pd.Series([99,22,232,94,5],index=[\"a\",\"b\",\"c\",\"d\",\"e\"]) #indexi kendimiz belirlemek istersek"
   ]
  },
  {
   "cell_type": "code",
   "execution_count": 19,
   "id": "ed1b2f57-9235-482f-8b46-c9c641dbfb91",
   "metadata": {},
   "outputs": [],
   "source": [
    "seri=pd.Series([99,22,232,94,5],index=[\"a\",\"b\",\"c\",\"d\",\"e\"]) "
   ]
  },
  {
   "cell_type": "code",
   "execution_count": 20,
   "id": "754d2ceb-57e8-41de-9b2f-4eba25a0c68e",
   "metadata": {},
   "outputs": [
    {
     "data": {
      "text/plain": [
       "99"
      ]
     },
     "execution_count": 20,
     "metadata": {},
     "output_type": "execute_result"
    }
   ],
   "source": [
    "seri[\"a\"]"
   ]
  },
  {
   "cell_type": "code",
   "execution_count": 21,
   "id": "6bb1357f-c173-4046-a49a-251b9311818d",
   "metadata": {},
   "outputs": [
    {
     "data": {
      "text/plain": [
       "b     22\n",
       "c    232\n",
       "d     94\n",
       "e      5\n",
       "dtype: int64"
      ]
     },
     "execution_count": 21,
     "metadata": {},
     "output_type": "execute_result"
    }
   ],
   "source": [
    "seri[\"b\":]"
   ]
  },
  {
   "cell_type": "code",
   "execution_count": 22,
   "id": "c4b32d9b-caa4-47e4-a0ea-35e1a807e2e0",
   "metadata": {},
   "outputs": [],
   "source": [
    "#Sözlük Üzerinden Liste Oluşturma"
   ]
  },
  {
   "cell_type": "code",
   "execution_count": 23,
   "id": "1f6b4bcf-9d52-4f7b-ae10-2b2eabc14770",
   "metadata": {},
   "outputs": [],
   "source": [
    "sözlük=pd.Series({\"ebru\":21,\"kübra\":18,\"seda\":20})"
   ]
  },
  {
   "cell_type": "code",
   "execution_count": 24,
   "id": "10982f9b-b1b1-4b23-820c-993ceaed0bb1",
   "metadata": {},
   "outputs": [
    {
     "data": {
      "text/plain": [
       "ebru     21\n",
       "kübra    18\n",
       "seda     20\n",
       "dtype: int64"
      ]
     },
     "execution_count": 24,
     "metadata": {},
     "output_type": "execute_result"
    }
   ],
   "source": [
    "sözlük"
   ]
  },
  {
   "cell_type": "code",
   "execution_count": 25,
   "id": "1a582088-2efc-41f4-abe5-9f8503f8e14d",
   "metadata": {},
   "outputs": [],
   "source": [
    "sözlük={\"ebru\":21,\"kübra\":18,\"seda\":20} # Aynı işlemin farklı bir yolu "
   ]
  },
  {
   "cell_type": "code",
   "execution_count": 26,
   "id": "c0177413-08f2-4fca-9722-78b9c1f76a50",
   "metadata": {},
   "outputs": [],
   "source": [
    "seri=pd.Series(sözlük)"
   ]
  },
  {
   "cell_type": "code",
   "execution_count": 27,
   "id": "6417f227-ad9b-4a2c-b066-3802cbee0e14",
   "metadata": {},
   "outputs": [
    {
     "data": {
      "text/plain": [
       "{'ebru': 21, 'kübra': 18, 'seda': 20}"
      ]
     },
     "execution_count": 27,
     "metadata": {},
     "output_type": "execute_result"
    }
   ],
   "source": [
    "sözlük"
   ]
  },
  {
   "cell_type": "code",
   "execution_count": 29,
   "id": "0da2b2cf-7fd4-4e2c-962e-4903505802b2",
   "metadata": {},
   "outputs": [
    {
     "data": {
      "text/plain": [
       "kübra    18\n",
       "seda     20\n",
       "dtype: int64"
      ]
     },
     "execution_count": 29,
     "metadata": {},
     "output_type": "execute_result"
    }
   ],
   "source": [
    "seri[\"kübra\":\"seda\"]"
   ]
  },
  {
   "cell_type": "markdown",
   "id": "2416958d-c1da-4635-b9d8-1ab53b2abb72",
   "metadata": {},
   "source": [
    "Pandas slicing işleminde, indeks numaraları veya etiketleri arasında farklılıklar vardır. İndeks numaraları, sıfırdan başlayarak artan tam sayılar olarak atanırken, etiketler kullanıcı tarafından tanımlanır ve herhangi bir veri türüne sahip olabilir.\r\n",
    "\r\n",
    "Bu nedenle, \"a\":\"c\" dilimlemesi etiketler üzerinden yapılır ve \"c\" de dahil edilir. Bununla birlikte, \"0:2\" kullanılarak numaralarla dilimleme yaparsanız, son indeks (2) dahil edilmez ve yalnızca 0 ve 1 indeksleri alınır.\r\n",
    "\r\n",
    "Örneğin, aşağıdaki kod örneğinde, \"a\":\"c\" dilimleme etiketleri kullanıldığından \"c\" de dahil edilirken, \"0:2\" dilimleme numaralar kullanıldığından 2 dahil edilmez:\r\n",
    "\r\n",
    "pythonCopy code\r\n",
    "import pandas as pd\r\n",
    " \r\n",
    "seri=pd.Series([1,2,3,4,5],index=[\"a\",\"b\",\"c\",\n",
    "\n",
    "\"d\",\"e\"])\r\n",
    "print(seri[\"a\":\"c\"])   # etiket tabanlı slicing -> c da\n",
    "hil edilir\r\n",
    "print(seri[0:2])       # numaraya dayalı slicing -> 2 dahil edi\n",
    "mez\r\n",
    "Çıktı:\r\n",
    "\r\n",
    "lessCopy code\r\n",
    "a    1\r\n",
    "b    2\r\n",
    "c   3\r\n",
    "dtype: int64\r\n",
    " \r\n",
    "a    1\r\n",
    "b    2\r\n",
    "dtype:"
   ]
  },
  {
   "cell_type": "code",
   "execution_count": 30,
   "id": "db52ef7c-0ea2-496d-aed6-c1be14789eb6",
   "metadata": {},
   "outputs": [],
   "source": [
    "#İki Seriyi Birleştirerek Seri Oluşturmak"
   ]
  },
  {
   "cell_type": "code",
   "execution_count": 31,
   "id": "fcb13765-e237-425b-8867-83973b8d171f",
   "metadata": {},
   "outputs": [
    {
     "data": {
      "text/plain": [
       "ebru     21\n",
       "kübra    18\n",
       "seda     20\n",
       "ebru     21\n",
       "kübra    18\n",
       "seda     20\n",
       "dtype: int64"
      ]
     },
     "execution_count": 31,
     "metadata": {},
     "output_type": "execute_result"
    }
   ],
   "source": [
    "pd.concat([seri,seri])"
   ]
  },
  {
   "cell_type": "markdown",
   "id": "d4d7228d-f5e7-43dc-890c-9f291e714d31",
   "metadata": {},
   "source": [
    "## Eleman İşlemleri"
   ]
  },
  {
   "cell_type": "code",
   "execution_count": 34,
   "id": "0e2ddeb9-67a1-402a-bd62-9fe4a828b955",
   "metadata": {},
   "outputs": [
    {
     "data": {
      "text/plain": [
       "0      1\n",
       "1      2\n",
       "2     33\n",
       "3    444\n",
       "4     75\n",
       "dtype: int32"
      ]
     },
     "execution_count": 34,
     "metadata": {},
     "output_type": "execute_result"
    }
   ],
   "source": [
    "import numpy as np\n",
    "import pandas as pd\n",
    "a=np.array([1,2,33,444,75])\n",
    "seri=pd.Series(a)\n",
    "seri"
   ]
  },
  {
   "cell_type": "code",
   "execution_count": 36,
   "id": "b26c9c2c-e765-400c-9590-31195141744f",
   "metadata": {},
   "outputs": [
    {
     "data": {
      "text/plain": [
       "1"
      ]
     },
     "execution_count": 36,
     "metadata": {},
     "output_type": "execute_result"
    }
   ],
   "source": [
    "seri[0]"
   ]
  },
  {
   "cell_type": "code",
   "execution_count": 37,
   "id": "5e3b1cae-bfcc-40d4-93bd-2881c56dc324",
   "metadata": {},
   "outputs": [
    {
     "data": {
      "text/plain": [
       "0     1\n",
       "1     2\n",
       "2    33\n",
       "dtype: int32"
      ]
     },
     "execution_count": 37,
     "metadata": {},
     "output_type": "execute_result"
    }
   ],
   "source": [
    "seri[0:3]"
   ]
  },
  {
   "cell_type": "code",
   "execution_count": 43,
   "id": "7c3de44c-048d-4add-8a40-622bcc6c4848",
   "metadata": {},
   "outputs": [],
   "source": [
    "seri=pd.Series([121,200,150,99],index=[\"reg\",\"log\",\"cart\",\"rf\"])"
   ]
  },
  {
   "cell_type": "code",
   "execution_count": 44,
   "id": "43c57dd6-8a2a-47e4-8b4b-6f77210d9785",
   "metadata": {},
   "outputs": [
    {
     "data": {
      "text/plain": [
       "reg     121\n",
       "log     200\n",
       "cart    150\n",
       "rf       99\n",
       "dtype: int64"
      ]
     },
     "execution_count": 44,
     "metadata": {},
     "output_type": "execute_result"
    }
   ],
   "source": [
    "seri"
   ]
  },
  {
   "cell_type": "code",
   "execution_count": 45,
   "id": "15da72d6-0009-4f81-8735-e1f7f9aeb1e4",
   "metadata": {},
   "outputs": [
    {
     "data": {
      "text/plain": [
       "Index(['reg', 'log', 'cart', 'rf'], dtype='object')"
      ]
     },
     "execution_count": 45,
     "metadata": {},
     "output_type": "execute_result"
    }
   ],
   "source": [
    "seri.index #serinin index numaralarına ulaşmak için"
   ]
  },
  {
   "cell_type": "code",
   "execution_count": 46,
   "id": "35d6ebb1-c8bc-4403-9145-45c1f518b053",
   "metadata": {},
   "outputs": [
    {
     "data": {
      "text/plain": [
       "<bound method Series.keys of reg     121\n",
       "log     200\n",
       "cart    150\n",
       "rf       99\n",
       "dtype: int64>"
      ]
     },
     "execution_count": 46,
     "metadata": {},
     "output_type": "execute_result"
    }
   ],
   "source": [
    "seri.keys # serinin anahtarlarına ulaşmak için "
   ]
  },
  {
   "cell_type": "code",
   "execution_count": 47,
   "id": "6b62b048-12a6-47c6-a3e8-920c8d576e13",
   "metadata": {},
   "outputs": [
    {
     "data": {
      "text/plain": [
       "[('reg', 121), ('log', 200), ('cart', 150), ('rf', 99)]"
      ]
     },
     "execution_count": 47,
     "metadata": {},
     "output_type": "execute_result"
    }
   ],
   "source": [
    "list(seri.items())"
   ]
  },
  {
   "cell_type": "code",
   "execution_count": 48,
   "id": "e02ef3d0-00a2-45c2-b290-fdacecc3e3da",
   "metadata": {},
   "outputs": [
    {
     "data": {
      "text/plain": [
       "array([121, 200, 150,  99], dtype=int64)"
      ]
     },
     "execution_count": 48,
     "metadata": {},
     "output_type": "execute_result"
    }
   ],
   "source": [
    "seri.values #serinin değerlerine ulaşmak için "
   ]
  },
  {
   "cell_type": "code",
   "execution_count": 49,
   "id": "a1c3555b-e77c-40df-9fe7-cfda26f0a1de",
   "metadata": {},
   "outputs": [],
   "source": [
    "#eleman sorgulama"
   ]
  },
  {
   "cell_type": "code",
   "execution_count": 50,
   "id": "322bfb60-d77b-4ac0-9190-9b73a2963181",
   "metadata": {},
   "outputs": [
    {
     "data": {
      "text/plain": [
       "True"
      ]
     },
     "execution_count": 50,
     "metadata": {},
     "output_type": "execute_result"
    }
   ],
   "source": [
    "\"reg\" in seri"
   ]
  },
  {
   "cell_type": "code",
   "execution_count": 51,
   "id": "9a1b6a58-0b6e-48aa-8398-48b0d43eb292",
   "metadata": {},
   "outputs": [
    {
     "data": {
      "text/plain": [
       "False"
      ]
     },
     "execution_count": 51,
     "metadata": {},
     "output_type": "execute_result"
    }
   ],
   "source": [
    "\"a\" in seri"
   ]
  },
  {
   "cell_type": "code",
   "execution_count": 52,
   "id": "15b17802-b9d5-409b-bae6-5c0608e218c4",
   "metadata": {},
   "outputs": [
    {
     "data": {
      "text/plain": [
       "121"
      ]
     },
     "execution_count": 52,
     "metadata": {},
     "output_type": "execute_result"
    }
   ],
   "source": [
    "seri[\"reg\"]"
   ]
  },
  {
   "cell_type": "code",
   "execution_count": 53,
   "id": "004e6e98-6fb7-4b9b-8400-e77ffcd43b02",
   "metadata": {},
   "outputs": [
    {
     "data": {
      "text/plain": [
       "200"
      ]
     },
     "execution_count": 53,
     "metadata": {},
     "output_type": "execute_result"
    }
   ],
   "source": [
    "seri[\"log\"]"
   ]
  },
  {
   "cell_type": "code",
   "execution_count": null,
   "id": "594878de-a704-4fb5-9e1b-d27eb1af5c0d",
   "metadata": {},
   "outputs": [],
   "source": []
  },
  {
   "cell_type": "code",
   "execution_count": 54,
   "id": "7d40b83e-415c-4402-a95f-6bbd1ebec98e",
   "metadata": {},
   "outputs": [],
   "source": [
    "#fanc elemanı"
   ]
  },
  {
   "cell_type": "code",
   "execution_count": 56,
   "id": "be147c47-b361-4b0d-a4af-9df9f097c10f",
   "metadata": {},
   "outputs": [
    {
     "data": {
      "text/plain": [
       "reg    121\n",
       "rf      99\n",
       "dtype: int64"
      ]
     },
     "execution_count": 56,
     "metadata": {},
     "output_type": "execute_result"
    }
   ],
   "source": [
    "seri[[\"reg\",\"rf\"]]"
   ]
  },
  {
   "cell_type": "code",
   "execution_count": 58,
   "id": "f8bd7f48-ed2b-4689-b603-897aed396df2",
   "metadata": {},
   "outputs": [],
   "source": [
    "seri[\"rf\"]=199"
   ]
  },
  {
   "cell_type": "code",
   "execution_count": 59,
   "id": "aabc0f58-bd76-4b52-8687-85a86870e032",
   "metadata": {},
   "outputs": [
    {
     "data": {
      "text/plain": [
       "reg     121\n",
       "log     200\n",
       "cart    150\n",
       "rf      199\n",
       "dtype: int64"
      ]
     },
     "execution_count": 59,
     "metadata": {},
     "output_type": "execute_result"
    }
   ],
   "source": [
    "seri"
   ]
  },
  {
   "cell_type": "code",
   "execution_count": 60,
   "id": "bd4f8ce3-3d89-49d9-b2d1-dd7ce537858e",
   "metadata": {},
   "outputs": [],
   "source": [
    "#index oluşturma da farklı yöntemler"
   ]
  },
  {
   "cell_type": "code",
   "execution_count": 63,
   "id": "0eed351b-4879-457f-8c01-0905686d342b",
   "metadata": {},
   "outputs": [],
   "source": [
    "import numpy as np\n",
    "import pandas as pd"
   ]
  },
  {
   "cell_type": "code",
   "execution_count": 64,
   "id": "94fdf87a-d049-4df1-916d-0f692cb4b345",
   "metadata": {},
   "outputs": [],
   "source": [
    "yöntem1=pd.Series([23,24,25,26,27,28,29],index=np.arange(10,23,2))"
   ]
  },
  {
   "cell_type": "code",
   "execution_count": 65,
   "id": "9296e63e-f5d5-4f0a-baef-03cf0dd8d9ab",
   "metadata": {},
   "outputs": [
    {
     "data": {
      "text/plain": [
       "10    23\n",
       "12    24\n",
       "14    25\n",
       "16    26\n",
       "18    27\n",
       "20    28\n",
       "22    29\n",
       "dtype: int64"
      ]
     },
     "execution_count": 65,
     "metadata": {},
     "output_type": "execute_result"
    }
   ],
   "source": [
    "yöntem1"
   ]
  },
  {
   "cell_type": "code",
   "execution_count": null,
   "id": "c0e4b874-08be-47b8-8fad-099d302750c3",
   "metadata": {},
   "outputs": [],
   "source": []
  },
  {
   "cell_type": "code",
   "execution_count": 70,
   "id": "2aad3806-8c42-4b2e-82a1-4828054b1a3a",
   "metadata": {},
   "outputs": [
    {
     "data": {
      "text/plain": [
       "20    1\n",
       "22    3\n",
       "24    5\n",
       "26    7\n",
       "28    9\n",
       "dtype: int32"
      ]
     },
     "execution_count": 70,
     "metadata": {},
     "output_type": "execute_result"
    }
   ],
   "source": [
    "a=np.array([1,3,5,7,9])\n",
    "yöntem2=pd.Series(a,index= range(20,29,2))\n",
    "yöntem2"
   ]
  },
  {
   "cell_type": "code",
   "execution_count": null,
   "id": "3bb450ba-bfda-4f5a-b33d-3c560f9f4f7d",
   "metadata": {},
   "outputs": [],
   "source": []
  }
 ],
 "metadata": {
  "kernelspec": {
   "display_name": "Python 3 (ipykernel)",
   "language": "python",
   "name": "python3"
  },
  "language_info": {
   "codemirror_mode": {
    "name": "ipython",
    "version": 3
   },
   "file_extension": ".py",
   "mimetype": "text/x-python",
   "name": "python",
   "nbconvert_exporter": "python",
   "pygments_lexer": "ipython3",
   "version": "3.11.7"
  }
 },
 "nbformat": 4,
 "nbformat_minor": 5
}
